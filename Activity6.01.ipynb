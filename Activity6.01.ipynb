{
 "cells": [
  {
   "cell_type": "code",
   "execution_count": 1,
   "id": "587f324b",
   "metadata": {},
   "outputs": [],
   "source": [
    "#Load pandas library into the first cell of the notebook\n",
    "import pandas as pd"
   ]
  },
  {
   "cell_type": "code",
   "execution_count": 15,
   "id": "38507bf2",
   "metadata": {},
   "outputs": [
    {
     "name": "stderr",
     "output_type": "stream",
     "text": [
      "C:\\Users\\15039\\AppData\\Local\\Temp\\ipykernel_20468\\963513835.py:3: FutureWarning: The squeeze argument has been deprecated and will be removed in a future version. Append .squeeze(\"columns\") to the call to squeeze.\n",
      "\n",
      "\n",
      "  populations_2010 = pd.read_csv(r'C:\\Users\\15039\\OneDrive\\Desktop\\5310\\assignments\\PandasAssinments\\Assignment_3_Data\\US_Census_SUB-IP-EST2019-ANNRNK_top_20_2010.csv', index_col=[0], squeeze=True)\n"
     ]
    },
    {
     "data": {
      "text/plain": [
       "City\n",
       "New York                8190209\n",
       "Los Angeles             3795512\n",
       "Chicago                 2697477\n",
       "Houston                 2100280\n",
       "Phoenix                 1449038\n",
       "Philadelphia            1528283\n",
       "San Antonio             1332299\n",
       "San Diego               1305906\n",
       "Dallas                  1200350\n",
       "San Jose                 954940\n",
       "Austin                   806164\n",
       "Jacksonville             823114\n",
       "Fort Worth               748441\n",
       "Columbus                 790943\n",
       "Charlotte                738444\n",
       "San Francisco            805505\n",
       "Indianapolis             821579\n",
       "Seattle                  610630\n",
       "Denver                   603359\n",
       "District of Columbia     605226\n",
       "Name: 2010, dtype: int64"
      ]
     },
     "execution_count": 15,
     "metadata": {},
     "output_type": "execute_result"
    }
   ],
   "source": [
    "#Read in a pandas Series. The city names are in the first column, so read them so that they are used as the indexes\n",
    "populations_2010 = \\\n",
    "populations_2010 = pd.read_csv(r'C:\\Users\\15039\\OneDrive\\Desktop\\5310\\assignments\\PandasAssinments\\Assignment_3_Data\\US_Census_SUB-IP-EST2019-ANNRNK_top_20_2010.csv', index_col=[0], squeeze=True)\n",
    "          \n",
    "populations_2010\n",
    "            "
   ]
  },
  {
   "cell_type": "code",
   "execution_count": 16,
   "id": "ba51d362",
   "metadata": {},
   "outputs": [],
   "source": [
    "#Calculate the total population of the three largest cities in the 2010 Series (New York, Los Angeles, and Chicago) and save the result in a variable\n",
    "top_3_2010 = sum(populations_2010[['New York', 'Los Angeles', 'Chicago']])"
   ]
  },
  {
   "cell_type": "code",
   "execution_count": 18,
   "id": "a52a510d",
   "metadata": {},
   "outputs": [
    {
     "name": "stderr",
     "output_type": "stream",
     "text": [
      "C:\\Users\\15039\\AppData\\Local\\Temp\\ipykernel_20468\\1904995719.py:3: FutureWarning: The squeeze argument has been deprecated and will be removed in a future version. Append .squeeze(\"columns\") to the call to squeeze.\n",
      "\n",
      "\n",
      "  populations_2019 = pd.read_csv(r'C:\\Users\\15039\\OneDrive\\Desktop\\5310\\assignments\\PandasAssinments\\Assignment_3_Data\\US_Census_SUB-IP-EST2019-ANNRNK_top_20_2019.csv', index_col=[0], squeeze=True)\n"
     ]
    },
    {
     "data": {
      "text/plain": [
       "City\n",
       "New York                8336817\n",
       "Los Angeles             3979576\n",
       "Chicago                 2693976\n",
       "Houston                 2320268\n",
       "Phoenix                 1680992\n",
       "Philadelphia            1584064\n",
       "San Antonio             1547253\n",
       "San Diego               1423851\n",
       "Dallas                  1343573\n",
       "San Jose                1021795\n",
       "Austin                   978908\n",
       "Jacksonville             911507\n",
       "Fort Worth               909585\n",
       "Columbus                 898553\n",
       "Charlotte                885708\n",
       "San Francisco            881549\n",
       "Indianapolis             876384\n",
       "Seattle                  753675\n",
       "Denver                   727211\n",
       "District of Columbia     705749\n",
       "Name: 2019, dtype: int64"
      ]
     },
     "execution_count": 18,
     "metadata": {},
     "output_type": "execute_result"
    }
   ],
   "source": [
    "#read in data for 2019\n",
    "populations_2019 = \\\n",
    "populations_2019 = pd.read_csv(r'C:\\Users\\15039\\OneDrive\\Desktop\\5310\\assignments\\PandasAssinments\\Assignment_3_Data\\US_Census_SUB-IP-EST2019-ANNRNK_top_20_2019.csv', index_col=[0], squeeze=True)\n",
    "          \n",
    "populations_2019"
   ]
  },
  {
   "cell_type": "code",
   "execution_count": 19,
   "id": "ffec2e70",
   "metadata": {},
   "outputs": [],
   "source": [
    "#Calculate the total population of the three largest cities in the 2019 Series (New York, Los Angeles, and Chicago) and save the result in a variable\n",
    "top_3_2019 = sum(populations_2019[['New York', 'Los Angeles', 'Chicago']])"
   ]
  },
  {
   "cell_type": "code",
   "execution_count": 20,
   "id": "0e6a73a7",
   "metadata": {},
   "outputs": [
    {
     "name": "stdout",
     "output_type": "stream",
     "text": [
      "top 3 changed 2.2 %\n",
      " vs. all changed 8.0 %\n"
     ]
    }
   ],
   "source": [
    "#Using the saved values, calculate the percent change from 2010 to 2019 for the three cities. Also, calculate the percent change for all the cities. Print out a comparison of the changes for the three cities versus all cities\n",
    "top_3_change = 100 * (top_3_2019 - top_3_2010) / top_3_2010\n",
    "all_change = 100 * sum(populations_2019 - populations_2010) / sum(populations_2010)\n",
    "#\n",
    "print('top 3 changed', str(round(top_3_change, 1)), '%\\n',\n",
    "      'vs. all changed', str(round(all_change, 1)), '%')"
   ]
  },
  {
   "cell_type": "code",
   "execution_count": null,
   "id": "b5b7f4c9",
   "metadata": {},
   "outputs": [],
   "source": []
  }
 ],
 "metadata": {
  "kernelspec": {
   "display_name": "Pandas_Workshop",
   "language": "python",
   "name": "pandas_workshop"
  },
  "language_info": {
   "codemirror_mode": {
    "name": "ipython",
    "version": 3
   },
   "file_extension": ".py",
   "mimetype": "text/x-python",
   "name": "python",
   "nbconvert_exporter": "python",
   "pygments_lexer": "ipython3",
   "version": "3.11.3"
  }
 },
 "nbformat": 4,
 "nbformat_minor": 5
}
